{
 "cells": [
  {
   "cell_type": "markdown",
   "id": "55d95158",
   "metadata": {},
   "source": [
    "# Body Mass Index (BMI) Calculator\n",
    "\n",
    "In this notebook we will be creating a simple and extendable BMI calculator. Body mass index (BMI) is a measure of body fat based on height and weight that applies to adult men and women. Its formula is weight / height<sup>2</sup> where weight is in kg and height is in m.\n",
    "\n",
    "### Why knowing your BMI is important\n",
    "BMI can be used to indicate a person's health. According to the bmi value people can be categorized into 4 main catgories.\n",
    "\n",
    "**BMI Categories:**<br>\n",
    "Underweight = <18.5<br>\n",
    "Normal weight = 18.5–24.9<br>\n",
    "Overweight = 25–29.9<br>\n",
    "Obesity = BMI of 30 or greater<br>\n",
    "\n",
    "**First**, let's prompt the user to enter their information."
   ]
  },
  {
   "cell_type": "code",
   "execution_count": 1,
   "id": "0f996473",
   "metadata": {},
   "outputs": [
    {
     "name": "stdout",
     "output_type": "stream",
     "text": [
      "Weight in kilograms: 55\n",
      "Height in metres: 1.6\n"
     ]
    }
   ],
   "source": [
    "weight = float(input(\"Weight in kilograms: \"))\n",
    "height = float(input(\"Height in metres: \"))"
   ]
  },
  {
   "cell_type": "markdown",
   "id": "04612349",
   "metadata": {},
   "source": [
    "Notice how we cast the output to `float` as the input method returns a string.\n",
    "\n",
    "**Next**, we will calculate the BMI using our formula. We will surround it with a `try...except` block in case the user hasn't entered valid values (or simply skipped it over while running the Jupyter interactive script). We used `abs()` method in case the user accidentally inputted negative numbers."
   ]
  },
  {
   "cell_type": "code",
   "execution_count": 2,
   "id": "244309fd",
   "metadata": {},
   "outputs": [],
   "source": [
    "bmi = 0\n",
    "try:\n",
    "    bmi = abs(weight / height ** 2)\n",
    "except:\n",
    "    print('Please enter a valid weight and height before proceeding!')"
   ]
  },
  {
   "cell_type": "markdown",
   "id": "6e06fc45",
   "metadata": {},
   "source": [
    "**Finally**, we can display to the user as a bonus their BMI category according to their input using a simple `if...elif...else` structure"
   ]
  },
  {
   "cell_type": "code",
   "execution_count": 3,
   "id": "93cc994d",
   "metadata": {},
   "outputs": [
    {
     "name": "stdout",
     "output_type": "stream",
     "text": [
      "Congratulations! You're normal weight. Keep up your healthy diet :)\n"
     ]
    }
   ],
   "source": [
    "if bmi <= 18.5:\n",
    "    print(\"You are underweight. Are you sure you're eating enough nutrient-rich and filling meals?\" \\\n",
    "          \" Try whole-grain breads, pastas and cereals; fruits and vegetables; dairy products;\" \\\n",
    "          \" lean protein sources; and nuts and seeds as well as smoothies and shakes.\")\n",
    "elif bmi < 25:\n",
    "    print(\"Congratulations! You're normal weight. Keep up your healthy diet :)\")\n",
    "elif bmi < 30:\n",
    "    print(\"You are overweight. Try maintaining a balanced diet.\" \\\n",
    "          \" To lose weight and maintain health, doctors recommend a diet that includes\" \\\n",
    "          \" a variety of foods, such as vegetables, fruits.\")\n",
    "else:\n",
    "    print(\"You are obese. Obesity has many detrimental health implications, such as heart disease and strokes,\" \\\n",
    "         \" type 2 diabetes, certain cancers, digestive problems, sleep apnea, osteoarthritis\" \\\n",
    "         \" and more recently, severe Covid-19 symptoms. It might also affect your quality of life. However\" \\\n",
    "         \" according to WHO, 'Overweight and obesity, as well as their related noncommunicable diseases,\"\\\n",
    "          \" are largely preventable. Supportive environments and communities are fundamental in shaping people’s\"\\\n",
    "          \" choices, by making the choice of healthier foods and regular physical activity the easiest choice.'\")"
   ]
  },
  {
   "cell_type": "markdown",
   "id": "9da7c089",
   "metadata": {},
   "source": [
    "For more information about the Body Mass Index, visit World Health Organization's website https://www.euro.who.int/en/health-topics/disease-prevention/nutrition/a-healthy-lifestyle/body-mass-index-bmi "
   ]
  }
 ],
 "metadata": {
  "kernelspec": {
   "display_name": "Python 3 (ipykernel)",
   "language": "python",
   "name": "python3"
  },
  "language_info": {
   "codemirror_mode": {
    "name": "ipython",
    "version": 3
   },
   "file_extension": ".py",
   "mimetype": "text/x-python",
   "name": "python",
   "nbconvert_exporter": "python",
   "pygments_lexer": "ipython3",
   "version": "3.9.7"
  }
 },
 "nbformat": 4,
 "nbformat_minor": 5
}
